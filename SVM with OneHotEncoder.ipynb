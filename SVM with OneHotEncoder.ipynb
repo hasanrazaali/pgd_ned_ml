{
 "cells": [
  {
   "cell_type": "code",
   "execution_count": 3,
   "id": "a8f0e3dc-4413-4f4d-9975-ceb695fb4453",
   "metadata": {},
   "outputs": [],
   "source": [
    "import pandas as pd\n",
    "import numpy as np\n",
    "import seaborn as sns\n",
    "from sklearn.preprocessing import OneHotEncoder, StandardScaler\n",
    "from sklearn.svm import SVC\n",
    "from sklearn.model_selection import train_test_split, GridSearchCV\n",
    "from sklearn.metrics import classification_report, accuracy_score"
   ]
  },
  {
   "cell_type": "code",
   "execution_count": null,
   "id": "9fa795c8-8b9c-4b72-be17-1ca9bba6ce12",
   "metadata": {},
   "outputs": [],
   "source": [
    "# Load Titanic dataset\n",
    "df = sns.load_dataset('titanic')"
   ]
  },
  {
   "cell_type": "code",
   "execution_count": null,
   "id": "c85e8250-5be1-4443-a8e2-30590ad447d3",
   "metadata": {},
   "outputs": [],
   "source": [
    "# Fill missing numeric values with median\n",
    "for col in df.select_dtypes(include='number').columns:\n",
    "    df[col] = df[col].fillna(df[col].median())"
   ]
  },
  {
   "cell_type": "code",
   "execution_count": null,
   "id": "da2aea69-eb9a-4291-b030-492a30620f11",
   "metadata": {},
   "outputs": [],
   "source": [
    "# Fill missing categorical values with mode\n",
    "for col in df.select_dtypes(include=['category', 'object']).columns:\n",
    "    df[col] = df[col].fillna(df[col].mode()[0])"
   ]
  },
  {
   "cell_type": "code",
   "execution_count": null,
   "id": "32f2c5e1-372a-401f-8379-ab0861e498b5",
   "metadata": {},
   "outputs": [],
   "source": [
    "# Separate features and target\n",
    "X = df.drop('survived', axis=1)\n",
    "y = df['survived']"
   ]
  },
  {
   "cell_type": "code",
   "execution_count": null,
   "id": "89fff265-ba38-4620-8302-35b92f3c24b9",
   "metadata": {},
   "outputs": [],
   "source": [
    "# Identify categorical and numeric columns\n",
    "categorical_cols = X.select_dtypes(include=['category', 'object']).columns\n",
    "numeric_cols = X.select_dtypes(include='number').columns"
   ]
  },
  {
   "cell_type": "code",
   "execution_count": null,
   "id": "14f4b173-feae-4864-8349-7542f1ca6d03",
   "metadata": {},
   "outputs": [],
   "source": [
    "# One-hot encode categorical columns\n",
    "encoder = OneHotEncoder(drop='first', sparse=False)\n",
    "X_cat = encoder.fit_transform(X[categorical_cols])"
   ]
  },
  {
   "cell_type": "code",
   "execution_count": null,
   "id": "55ca13ae-e876-4cbd-b813-230fc3f53701",
   "metadata": {},
   "outputs": [],
   "source": [
    "# Get encoded feature names\n",
    "encoded_cat_names = encoder.get_feature_names_out(categorical_cols)"
   ]
  },
  {
   "cell_type": "code",
   "execution_count": null,
   "id": "f5b02ddf-a518-4752-98a7-dbed2624a761",
   "metadata": {},
   "outputs": [],
   "source": [
    "# Combine numeric and encoded categorical columns\n",
    "X_combined = np.hstack([X[numeric_cols].values, X_cat])"
   ]
  },
  {
   "cell_type": "code",
   "execution_count": null,
   "id": "b480d10c-21f8-476a-8f75-c16c592ffd6c",
   "metadata": {},
   "outputs": [],
   "source": [
    "# Create final feature names list\n",
    "final_feature_names = list(numeric_cols) + list(encoded_cat_names)\n",
    "print(\"\\nFinal Features After Encoding:\")\n",
    "print(final_feature_names)"
   ]
  },
  {
   "cell_type": "code",
   "execution_count": null,
   "id": "89e32775-56dc-4ff9-ae9f-20af92e5ec24",
   "metadata": {},
   "outputs": [],
   "source": [
    "# Standardize all features\n",
    "scaler = StandardScaler()\n",
    "X_scaled = scaler.fit_transform(X_combined)"
   ]
  },
  {
   "cell_type": "code",
   "execution_count": null,
   "id": "4eafd0c5-3b01-4707-ada3-12634f8efec7",
   "metadata": {},
   "outputs": [],
   "source": []
  }
 ],
 "metadata": {
  "kernelspec": {
   "display_name": "Python [conda env:base] *",
   "language": "python",
   "name": "conda-base-py"
  },
  "language_info": {
   "codemirror_mode": {
    "name": "ipython",
    "version": 3
   },
   "file_extension": ".py",
   "mimetype": "text/x-python",
   "name": "python",
   "nbconvert_exporter": "python",
   "pygments_lexer": "ipython3",
   "version": "3.13.5"
  }
 },
 "nbformat": 4,
 "nbformat_minor": 5
}
